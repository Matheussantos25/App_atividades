{
 "cells": [
  {
   "cell_type": "code",
   "execution_count": 1,
   "metadata": {},
   "outputs": [
    {
     "name": "stdout",
     "output_type": "stream",
     "text": [
      "Tipo de dados da coluna 'Dia': datetime64[ns]\n",
      "As datas foram convertidas para o formato 'DD/MM/AAAA' e o arquivo foi atualizado.\n"
     ]
    }
   ],
   "source": [
    "import pandas as pd\n",
    "\n",
    "# Nome do arquivo CSV\n",
    "arquivo_csv = 'exercicios_diarios.csv'\n",
    "\n",
    "# Ler o arquivo CSV\n",
    "df = pd.read_csv(arquivo_csv)\n",
    "\n",
    "# Função para tentar converter as datas em múltiplos formatos\n",
    "def converter_data(data_str):\n",
    "    formatos = ['%Y-%m-%d %H:%M:%S', '%Y-%m-%d', '%d/%m/%Y']\n",
    "    for fmt in formatos:\n",
    "        try:\n",
    "            return pd.to_datetime(data_str, format=fmt)\n",
    "        except ValueError:\n",
    "            continue\n",
    "    return pd.NaT  # Retorna NaT se nenhum formato corresponder\n",
    "\n",
    "# Aplicar a função de conversão à coluna 'Dia'\n",
    "df['Dia'] = df['Dia'].apply(converter_data)\n",
    "\n",
    "# Remover linhas com datas inválidas\n",
    "df = df.dropna(subset=['Dia'])\n",
    "\n",
    "# Verificar o tipo de dados da coluna 'Dia'\n",
    "print(\"Tipo de dados da coluna 'Dia':\", df['Dia'].dtype)\n",
    "\n",
    "# Converter as datas para o formato desejado 'DD/MM/AAAA'\n",
    "df['Dia'] = df['Dia'].dt.strftime('%d/%m/%Y')\n",
    "\n",
    "# Salvar o DataFrame atualizado de volta para o CSV\n",
    "df.to_csv(arquivo_csv, index=False)\n",
    "\n",
    "print(\"As datas foram convertidas para o formato 'DD/MM/AAAA' e o arquivo foi atualizado.\")"
   ]
  }
 ],
 "metadata": {
  "kernelspec": {
   "display_name": "Python 3",
   "language": "python",
   "name": "python3"
  },
  "language_info": {
   "codemirror_mode": {
    "name": "ipython",
    "version": 3
   },
   "file_extension": ".py",
   "mimetype": "text/x-python",
   "name": "python",
   "nbconvert_exporter": "python",
   "pygments_lexer": "ipython3",
   "version": "3.12.0"
  }
 },
 "nbformat": 4,
 "nbformat_minor": 2
}
